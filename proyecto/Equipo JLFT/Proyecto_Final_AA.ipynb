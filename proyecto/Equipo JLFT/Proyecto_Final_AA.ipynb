{
 "cells": [
  {
   "cell_type": "markdown",
   "metadata": {
    "id": "ldEFjdJ0-kRK"
   },
   "source": [
    "# **Proyecto Final Análisis Aplicado**\n",
    "## Otoño 2020\n",
    "\n",
    "*   José Luis Cordero Rodríguez\n",
    "*   Tonantzin Real Rojas\n",
    "*   Francisco Velasco Medina\n",
    "\n"
   ]
  },
  {
   "cell_type": "code",
   "execution_count": null,
   "metadata": {
    "id": "eQ7OkyxNSK3Z"
   },
   "outputs": [],
   "source": [
    "import numpy as np\n",
    "import math as ma\n",
    "import pandas as pd\n",
    "import random as rd\n",
    "from numpy import linalg as la\n",
    "import cmath\n",
    "import warnings"
   ]
  },
  {
   "cell_type": "markdown",
   "metadata": {
    "id": "V0rzW3zu_idd"
   },
   "source": [
    "### Clase, algoritmos y métodos\n",
    "\n",
    "En esta sección presentamos la clase **MetodosPF** que contiene los siguientes métodos y algoritmos:\n",
    "\n",
    "Métodos utilizados:\n",
    "1.   **grad:** método para calcular el gradiente de una función\n",
    "2.   **hess:** método para calcular el hessiana de una función\n",
    "3.   **norma:** método para calcular la norma 2 de un vector\n",
    "4.   **cholesky:** método para volver suficientemente positiva a la hessiana y poder aplicarle la descomposición Cholesky\n",
    "\n",
    "Algoritmos requeridos en el proyecto:\n",
    "1.   **backS:** algoritmo que corresponde a la búsqueda lineal base\n",
    "2.   **newton:** algoritmo que corresponde al algoritmo de Newton\n",
    "3.   **newtonMod:** algoritmo que corresponde al algoritmo de Newton modificado\n",
    "4.   **bfgs:** algoritmo que corresponde al algoritmo BFGS"
   ]
  },
  {
   "cell_type": "code",
   "execution_count": null,
   "metadata": {
    "id": "OX1_yy4_SK3j"
   },
   "outputs": [],
   "source": [
    "class MetodosPF:\n",
    "    def __init__(self,f, xk, pk, eps = 0.00001):\n",
    "        try:\n",
    "            self.f = f\n",
    "            self.xk = xk\n",
    "            self.pk = pk\n",
    "            self.eps = eps\n",
    "        except:\n",
    "            return \"Debe ser función multivariada\"\n",
    "    \n",
    "    # POO\n",
    "    def setXk(self, xk):\n",
    "        self.xk = xk\n",
    "    \n",
    "    def setF(self, f):\n",
    "        self.f = f\n",
    "        \n",
    "    ## Métodos ## \n",
    "    # Método para calcular el gradiente\n",
    "    def grad(self,x=None):\n",
    "        if x is None:\n",
    "          x = self.xk  \n",
    "        n = len(x)\n",
    "        res = np.zeros(n)\n",
    "        for i in range(n):\n",
    "            zer = np.zeros(n)\n",
    "            zer[i] += self.eps\n",
    "            x1 = x + zer\n",
    "            res[i] = (self.f(x1) - self.f(x)) / self.eps\n",
    "        return res\n",
    "\n",
    "    # Método para calcular la hessiana\n",
    "    def hess(self,xk):\n",
    "      n = len(xk)\n",
    "      res = np.zeros((n,n))\n",
    "      for i in range(n):\n",
    "          for j in range(n):\n",
    "              zer = np.zeros(n)\n",
    "              zer2 = np.zeros(n)\n",
    "              zer[i] += self.eps\n",
    "              zer2[j] += self.eps\n",
    "              x_e = xk + zer + zer2\n",
    "              x_ei = xk + zer\n",
    "              x_ej = xk + zer2\n",
    "              res[i][j] = (self.f(x_e) - self.f(x_ei) - self.f(x_ej) + self.f(xk)) / (self.eps**2)\n",
    "      return res\n",
    "\n",
    "    # Método para sacar la norma\n",
    "    def norma(self,vector):\n",
    "      suma = 0\n",
    "      for i in range(len(vector)):\n",
    "        suma = suma+ma.pow(vector[i],2)\n",
    "      return ma.sqrt(suma)\n",
    "\n",
    "    # Algoritmo de Cholesky\n",
    "    def cholesky(self, A, b, k):\n",
    "      t = 0\n",
    "      if min(np.diag(A)) > 0:\n",
    "          t = 0\n",
    "      else: \n",
    "          t = -min(np.diag(A)) + b \n",
    "      for j in range(k):\n",
    "          try: \n",
    "              L = la.cholesky(A + t*np.identity(len(A)))\n",
    "          except:\n",
    "              t = max(2*t,b)\n",
    "          else:\n",
    "              break\n",
    "      return np.dot(L,L)\n",
    "    \n",
    "    ## Algoritmo ##\n",
    "    # Algoritmo de Búsqueda Lineal Base (Algoritmo de búsqueda de paso)\n",
    "    def backS(self,a, xk ,pk, seed = 123):\n",
    "        np.random.seed(seed)\n",
    "        c = np.random.rand()   \n",
    "        while self.f(xk + a * pk) > self.f(xk) + c * a * np.dot(self.grad(xk), pk):\n",
    "            rho = np.random.rand()\n",
    "            a = rho * a\n",
    "        return a\n",
    "\n",
    "    # Algoritmo de Newton sin modificación a la hessiana y con tamaño de paso fijo\n",
    "    def newton(self,alpha,n=100):\n",
    "        xk = self.xk\n",
    "        for i in range(n):\n",
    "            Bk = self.hess(xk)\n",
    "            pk = np.dot(la.inv(Bk),-1 * self.grad(xk))\n",
    "            xk = xk + alpha * pk\n",
    "        return xk\n",
    "\n",
    "    # Algoritmo de Newton con modificación a la hessiana\n",
    "    def newtonMod(self, n=100, k=100, b=2):\n",
    "      xk = self.xk\n",
    "      for i in range(n):\n",
    "          Bk = self.hess(xk)\n",
    "          try:\n",
    "              L=la.cholesky(Bk)\n",
    "          except:\n",
    "              Bk = self.cholesky(Bk, b, k)\n",
    "          pk = np.dot(la.inv(Bk),-1 * self.grad(xk))\n",
    "          xk = xk + self.backS(1,xk,pk) * pk\n",
    "      return xk\n",
    "\n",
    "    # Algoritmo BFGS\n",
    "    def bfgs(self,umbral=3,e=0.1):\n",
    "      xk = self.xk\n",
    "      pk = self.pk\n",
    "      k= 0\n",
    "      sk = np.array(self.backS(umbral,xk,pk))*pk \n",
    "      yk = self.grad(xk+sk)-self.grad()\n",
    "      H0 = (np.dot(yk,sk)/np.dot(yk,yk))*np.identity(len(xk))\n",
    "      pk = -np.dot(H0,self.grad())\n",
    "      xk_1 = xk\n",
    "\n",
    "      while self.norma(self.grad(xk_1))> e:\n",
    "        pk = -np.dot(la.inv(self.hess(xk_1)),self.grad(xk_1)) \n",
    "        xk_1 = xk_1 + self.backS(umbral,xk_1,pk)*pk\n",
    "        sk = self.backS(umbral,xk_1,pk)*pk\n",
    "        yk = self.grad(xk_1)-self.grad(xk_1-sk)\n",
    "        pk = 1/(np.dot(yk,sk))\n",
    "        Hk_1 = np.dot(np.dot((np.identity(len(xk_1))-pk*np.dot(sk,yk)),self.hess(xk_1)),np.identity(len(xk_1))-pk*np.dot(sk,yk)) + pk*np.dot(sk,sk)\n",
    "        k = k+1 \n",
    "      return xk_1 \n"
   ]
  },
  {
   "cell_type": "markdown",
   "metadata": {
    "id": "P0B2ZYpyPBck"
   },
   "source": [
    "### Función polinomial para corroborar que funciona"
   ]
  },
  {
   "cell_type": "code",
   "execution_count": null,
   "metadata": {
    "id": "_bHxL-5mPY1p"
   },
   "outputs": [],
   "source": [
    "def p2():\n",
    "    return lambda x: x[0]**2 + 3*x[1]**3"
   ]
  },
  {
   "cell_type": "code",
   "execution_count": null,
   "metadata": {
    "colab": {
     "base_uri": "https://localhost:8080/"
    },
    "id": "x9DJdT6WPabF",
    "outputId": "cb07af36-2b45-4eaa-ab3f-b2a0d1c7c38e"
   },
   "outputs": [
    {
     "data": {
      "text/plain": [
       "array([6.00001000e+00, 3.55271368e-10])"
      ]
     },
     "execution_count": 4,
     "metadata": {
      "tags": []
     },
     "output_type": "execute_result"
    }
   ],
   "source": [
    "xk = np.array([2,0])\n",
    "pk = np.array([0.01, 0.02])\n",
    "\n",
    "metodos = MetodosPF(p2(),xk, pk)\n",
    "metodos.grad([3,0])\n",
    "# metodos.hess(xk)\n",
    "# metodos.backS(2,xk,pk)\n",
    "# metodos.newton(0.1)\n",
    "# metodos.newtonMod()\n",
    "# metodos.bfgs(1)"
   ]
  },
  {
   "cell_type": "markdown",
   "metadata": {
    "id": "eBMDTHdhPfHm"
   },
   "source": [
    "### Función Rosenbrock"
   ]
  },
  {
   "cell_type": "code",
   "execution_count": 56,
   "metadata": {
    "id": "L-qcd0mJPn1W"
   },
   "outputs": [],
   "source": [
    "def rosen(a=1, b=100):\n",
    "    return lambda x: (a - x[0]) ** 2 + b * (x[1] - x[0] ** 2) ** 2"
   ]
  },
  {
   "cell_type": "code",
   "execution_count": 57,
   "metadata": {
    "colab": {
     "base_uri": "https://localhost:8080/"
    },
    "id": "zYSyNNIDPpik",
    "outputId": "56babedf-f491-4043-8ae2-13af69ff6225"
   },
   "outputs": [
    {
     "data": {
      "text/plain": [
       "array([[ 370.01916198, -320.00199823],\n",
       "       [-320.00199823,  199.99998102]])"
      ]
     },
     "execution_count": 57,
     "metadata": {
      "tags": []
     },
     "output_type": "execute_result"
    }
   ],
   "source": [
    "xk = np.array([0.8,1])\n",
    "pk = np.array([2, 5])\n",
    "metodos = MetodosPF(rosen(),xk, pk)\n",
    "# metodos.grad()\n",
    "metodos.hess(xk)\n",
    "# metodos.backS(2,xk,pk)\n",
    "# metodos.newton(0.1)\n",
    "# metodos.newtonMod()\n",
    "# metodos.bfgs()"
   ]
  },
  {
   "cell_type": "markdown",
   "metadata": {
    "id": "FUeGHbkOPwR9"
   },
   "source": [
    "### Crímenes y cámaras"
   ]
  },
  {
   "cell_type": "code",
   "execution_count": 58,
   "metadata": {
    "id": "jVB9iVkorjun"
   },
   "outputs": [],
   "source": [
    "def crim(x):\n",
    "  crimenes = pd.read_csv('crime_data.csv')\n",
    "  crimenes = crimenes[0:x]\n",
    "\n",
    "  maxLat = round(crimenes['lat'].max(),2)\n",
    "  maxLong = round(crimenes['long'].max(),2)\n",
    "  minLat = round(crimenes['lat'].min(),2)\n",
    "  minLong = round(crimenes['long'].min(),2)\n",
    "  \n",
    "  crimenes['nLat'] = (crimenes['lat']-minLat)/(maxLat - minLat)\n",
    "  crimenes['nLong'] = (crimenes['long']-minLong)/(maxLong - minLong)\n",
    "\n",
    "  coord = crimenes[['nLong','nLat']].to_numpy()\n",
    "  return lambda camaras: costo2(camaras, coord)\n",
    "\n",
    "\n",
    "def costo2(camaras, coord):  \n",
    "  c = 0\n",
    "  \n",
    "  for i in range(int(len(camaras)/2)):\n",
    "  \tfor j in range(len(coord)):\n",
    "  \t\tc += (camaras[i] - coord[j][0])**2 + (camaras[i+int(len(camaras)/2)] - coord[j][1])**2\n",
    "\t\t\t\n",
    "  for i in range(int(len(camaras)/2)):\n",
    "  \tfor j in range(int(len(camaras)/2)):\n",
    "  \t\tif i != j:\n",
    "  \t\t\t c += 1 / ((camaras[i] - camaras[j])**2 + (camaras[i+int(len(camaras)/2)] - camaras[j + int(len(camaras)/2)])**2)\n",
    "\n",
    "  return round(c,2)"
   ]
  },
  {
   "cell_type": "markdown",
   "metadata": {
    "id": "0pHwXWodVf_q"
   },
   "source": [
    "Lectura de datos"
   ]
  },
  {
   "cell_type": "code",
   "execution_count": 59,
   "metadata": {
    "colab": {
     "base_uri": "https://localhost:8080/"
    },
    "id": "nJVHdLKcPz2t",
    "outputId": "318dd217-1175-49d1-e6cf-dff5256e70b1"
   },
   "outputs": [
    {
     "name": "stdout",
     "output_type": "stream",
     "text": [
      "240\n"
     ]
    }
   ],
   "source": [
    "crimenes = pd.read_csv('crime_data.csv')\n",
    "crimenes.head()\n",
    "crim240=crimenes.head(240)\n",
    "crim240.head()\n",
    "print(len(crim240))"
   ]
  },
  {
   "cell_type": "markdown",
   "metadata": {
    "id": "CqJt4UdiXgI6"
   },
   "source": [
    "Aplicamos los algoritmos programados"
   ]
  },
  {
   "cell_type": "code",
   "execution_count": 60,
   "metadata": {
    "colab": {
     "base_uri": "https://localhost:8080/"
    },
    "id": "BXCyNlnNVjkM",
    "outputId": "7bfa3d55-e210-4169-ef7f-7c06f18ab327"
   },
   "outputs": [
    {
     "data": {
      "text/plain": [
       "7088.02"
      ]
     },
     "execution_count": 60,
     "metadata": {
      "tags": []
     },
     "output_type": "execute_result"
    }
   ],
   "source": [
    "camara = [0.5,0.4,0.2,0.7]\n",
    "h=crim(24000)\n",
    "h(camara)"
   ]
  },
  {
   "cell_type": "code",
   "execution_count": null,
   "metadata": {
    "id": "xqetX7ZZVjq3"
   },
   "outputs": [],
   "source": [
    "pk = [0.1,0.1]\n",
    "metodos = MetodosPF(h,camara, pk)\n",
    "aNewton = metodos.newtonMod()\n",
    "aNewton"
   ]
  },
  {
   "cell_type": "code",
   "execution_count": null,
   "metadata": {
    "colab": {
     "base_uri": "https://localhost:8080/"
    },
    "id": "bajNeo7VcHVI",
    "outputId": "c582618a-831b-4746-c26c-ca5cb81ebe38"
   },
   "outputs": [
    {
     "data": {
      "text/plain": [
       "2844.84"
      ]
     },
     "execution_count": 34,
     "metadata": {
      "tags": []
     },
     "output_type": "execute_result"
    }
   ],
   "source": [
    "h(aNewton)"
   ]
  },
  {
   "cell_type": "code",
   "execution_count": null,
   "metadata": {
    "colab": {
     "base_uri": "https://localhost:8080/"
    },
    "id": "v4nLqBuicwly",
    "outputId": "9336cc03-4d98-41b7-e40b-668991f50787"
   },
   "outputs": [
    {
     "name": "stdout",
     "output_type": "stream",
     "text": [
      "[0.69646919 0.28613933 0.22685145 0.55131477 0.71946897 0.42310646\n",
      " 0.9807642  0.68482974 0.4809319  0.39211752 0.34317802 0.72904971\n",
      " 0.43857224 0.0596779  0.39804426 0.73799541]\n",
      "1657.46\n"
     ]
    }
   ],
   "source": [
    "np.random.seed(123)\n",
    "v = np.random.rand(16)\n",
    "print(v)\n",
    "g=crim(24)\n",
    "print(g(v))"
   ]
  },
  {
   "cell_type": "code",
   "execution_count": null,
   "metadata": {
    "colab": {
     "base_uri": "https://localhost:8080/"
    },
    "id": "oydMQg2WhNm9",
    "outputId": "2de8090c-13ac-4755-931e-ee97ac4d7893"
   },
   "outputs": [
    {
     "data": {
      "text/plain": [
       "array([ 0.6949824 ,  0.28733173,  0.22567458,  0.55121543,  0.72111498,\n",
       "        0.42307695,  0.98089648,  0.68482633,  0.49433477,  0.40517972,\n",
       "        0.34196976, -0.4437965 ,  0.43492962,  0.05875521,  0.39718501,\n",
       "        0.73728065])"
      ]
     },
     "execution_count": 37,
     "metadata": {
      "tags": []
     },
     "output_type": "execute_result"
    }
   ],
   "source": [
    "pk = 0.05*np.ones(16)\n",
    "metodos = MetodosPF(crim(24),v, pk)\n",
    "aNewton = metodos.newtonMod()\n",
    "aNewton"
   ]
  },
  {
   "cell_type": "code",
   "execution_count": null,
   "metadata": {
    "colab": {
     "base_uri": "https://localhost:8080/"
    },
    "id": "cLvGZaumkOXz",
    "outputId": "f6fd46fd-30ec-43f3-a59d-e7d23682f4bf"
   },
   "outputs": [
    {
     "name": "stdout",
     "output_type": "stream",
     "text": [
      "1043.5\n"
     ]
    }
   ],
   "source": [
    "print(g(aNewton))"
   ]
  }
 ],
 "metadata": {
  "colab": {
   "collapsed_sections": [
    "V0rzW3zu_idd",
    "P0B2ZYpyPBck",
    "eBMDTHdhPfHm",
    "FUeGHbkOPwR9"
   ],
   "name": "Proyecto Final AA",
   "provenance": []
  },
  "kernelspec": {
   "display_name": "Python 3",
   "language": "python",
   "name": "python3"
  },
  "language_info": {
   "codemirror_mode": {
    "name": "ipython",
    "version": 3
   },
   "file_extension": ".py",
   "mimetype": "text/x-python",
   "name": "python",
   "nbconvert_exporter": "python",
   "pygments_lexer": "ipython3",
   "version": "3.8.5"
  }
 },
 "nbformat": 4,
 "nbformat_minor": 1
}
