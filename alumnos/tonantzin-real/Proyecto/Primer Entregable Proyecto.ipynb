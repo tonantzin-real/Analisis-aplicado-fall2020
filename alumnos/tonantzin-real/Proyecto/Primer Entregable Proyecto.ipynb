{
 "cells": [
  {
   "cell_type": "markdown",
   "metadata": {},
   "source": [
    "**Primer Entregable del Proyecto**\\\n",
    "Tonantzin Real Rojas \\\n",
    "**C.U.** 163491 \\\n",
    "**Fecha:** Octubre 9, 2020"
   ]
  },
  {
   "cell_type": "markdown",
   "metadata": {},
   "source": [
    "**Objetivo** \\\n",
    "Estudiar e implementar el algoritmo de Búsqueda Lineal de Newton con Modificación a la Hessiana. En concreto los algoritmos 3.1 y 3.2 del libro de la clase"
   ]
  },
  {
   "cell_type": "markdown",
   "metadata": {},
   "source": [
    "**Herramientas y código** \\\n",
    "El algoritmo se debe implementar en python. Para calcular la hessiana y el gradiente se tienen que usar funciones hechas por ustedes"
   ]
  },
  {
   "cell_type": "code",
   "execution_count": 1,
   "metadata": {},
   "outputs": [],
   "source": [
    "import numpy as np\n",
    "import math as ma\n",
    "import random as rd\n",
    "from numpy import linalg as la"
   ]
  },
  {
   "cell_type": "markdown",
   "metadata": {},
   "source": [
    "Cálculo del gradiente de $f$ y la hessiana \\\n",
    "Código de la tarea 1"
   ]
  },
  {
   "cell_type": "code",
   "execution_count": 2,
   "metadata": {},
   "outputs": [],
   "source": [
    "def gradiente(f, xk):  # xk in R^n, np.array, f a function\n",
    "    n = len(xk)\n",
    "    epsilon = 0.0000001\n",
    "    res = np.zeros(n)\n",
    "    \n",
    "    for i in range(n):\n",
    "        zer = np.zeros(n)\n",
    "        zer[i] += epsilon\n",
    "        x1 = xk + zer\n",
    "        res[i] = (f(x1) - f(xk))/epsilon\n",
    "    return res\n",
    "\n",
    "\n",
    "def hessiana(f, xk): # xk in R^n, np.array\n",
    "    n = len(xk)\n",
    "    epsilon = 0.0000001\n",
    "    res = np.zeros((n,n))\n",
    "    \n",
    "    for i in range(n):\n",
    "        for j in range (n):\n",
    "            zeri = np.zeros(n)\n",
    "            zerj = np.zeros(n)\n",
    "            zeri[i] += epsilon\n",
    "            zerj[j] += epsilon\n",
    "            \n",
    "            x2e = xk + zeri + zerj   # x + epsilon*ei + epsilon*ej\n",
    "            xei = xk + zeri          # x + epsilon*ei \n",
    "            xej = xk + zerj          # x + epsilon * ej\n",
    "            \n",
    "            res[i,j] = (f(x2e) - f(xei) - f(xej) + f(xk)) / (epsilon**2)   # Hessiana\n",
    "            \n",
    "    return res  "
   ]
  },
  {
   "cell_type": "markdown",
   "metadata": {},
   "source": [
    "**Algorithm 3.1** Backtracking Line Search"
   ]
  },
  {
   "cell_type": "code",
   "execution_count": 3,
   "metadata": {},
   "outputs": [],
   "source": [
    "def backLS(alpha,f,xk,pk):\n",
    "    rd.seed(123)\n",
    "    c = rd.uniform(0,1)   \n",
    "    a = alpha\n",
    "    \n",
    "    while f(xk +a*pk) > f(xk) + c*a*np.dot(gradiente(f,xk),pk):\n",
    "       rho = rd.uniform(0, 1)         # The contraction factor \n",
    "       a = rho*a      \n",
    "    return a"
   ]
  },
  {
   "cell_type": "markdown",
   "metadata": {},
   "source": [
    "**Algorithm 3.3** Cholesky with Added Multiple of the Identity"
   ]
  },
  {
   "cell_type": "code",
   "execution_count": 4,
   "metadata": {},
   "outputs": [],
   "source": [
    "def choleskyId(A,b=1e-04,maxIt=1000):\n",
    "    t = 0\n",
    "    \n",
    "    if min(np.diag(A)) > 0 :\n",
    "        t = 0\n",
    "    else:\n",
    "        t = -min(np.diag(A)) + b\n",
    "        \n",
    "    for i in range(maxIt):\n",
    "        try:\n",
    "            L = la.cholesky(A + t*np.identity(len(A)))\n",
    "        except:\n",
    "            t = max(2*t,b)\n",
    "        else:\n",
    "            break\n",
    "            \n",
    "    return np.dot(L,L)"
   ]
  },
  {
   "cell_type": "markdown",
   "metadata": {},
   "source": [
    "**Algorithm 3.2** Line Search Newton with Modification"
   ]
  },
  {
   "cell_type": "code",
   "execution_count": 5,
   "metadata": {},
   "outputs": [],
   "source": [
    "def lsNewtonMod(f,xk,maxIt=1000):\n",
    "      \n",
    "    for k in range(maxIt):\n",
    "        Bk = hessiana(f,xk)\n",
    "        \n",
    "        try:\n",
    "            L = la.cholesky(Bk)\n",
    "        except:\n",
    "            Bk = choleskyId(Bk)\n",
    "            \n",
    "        pk = np.dot(la.inv(Bk),-gradiente(f,xk))\n",
    "        a = backLS(1,f,xk,pk)\n",
    "        xk = xk + a*pk\n",
    "\n",
    "    return xk"
   ]
  },
  {
   "cell_type": "markdown",
   "metadata": {},
   "source": [
    "**Prueba** \\\n",
    "Usar la función Rosenbrock: $f(x,y) = (a-x)^2 + b(y-x^2)^2$ \\\n",
    "con $a=1, b=100$ y también con otros parámetros para ver cómo se comporta el algoritmo"
   ]
  },
  {
   "cell_type": "code",
   "execution_count": 6,
   "metadata": {},
   "outputs": [],
   "source": [
    "# Función de prueba\n",
    "\n",
    "def fRosenbrock(x,a=1,b=100):\n",
    "    f = (a-x[0])**2 + b*(x[1]-x[0]**2)**2\n",
    "    return(f)"
   ]
  },
  {
   "cell_type": "markdown",
   "metadata": {},
   "source": [
    "De acuerdo con el ejercicio 3.1 del Nocedal para probar nuestro código con $a=1, b=100$ utilizamos los siguientes puntos iniciales $x_0$"
   ]
  },
  {
   "cell_type": "code",
   "execution_count": 7,
   "metadata": {},
   "outputs": [
    {
     "name": "stdout",
     "output_type": "stream",
     "text": [
      "x0 = [1.2,1.2] \n",
      "[0.99997106 0.99994206]\n"
     ]
    }
   ],
   "source": [
    "print('x0 = [1.2,1.2] \\n'+ str(lsNewtonMod(fRosenbrock,[1.2,1.2])))"
   ]
  },
  {
   "cell_type": "code",
   "execution_count": 8,
   "metadata": {},
   "outputs": [
    {
     "name": "stdout",
     "output_type": "stream",
     "text": [
      "x0 = [-1.2,1] \n",
      "[0.99996995 0.99993985]\n"
     ]
    }
   ],
   "source": [
    "print('x0 = [-1.2,1] \\n'+ str(lsNewtonMod(fRosenbrock,[-1.2,1])))"
   ]
  },
  {
   "cell_type": "markdown",
   "metadata": {},
   "source": [
    "Ahora probamos con otros parámetros $a, b$"
   ]
  },
  {
   "cell_type": "markdown",
   "metadata": {},
   "source": [
    "$a=2, b=50$"
   ]
  },
  {
   "cell_type": "code",
   "execution_count": 9,
   "metadata": {},
   "outputs": [
    {
     "name": "stdout",
     "output_type": "stream",
     "text": [
      "x0 = [1.2,1.2] \n",
      "[1.99994995 3.99979976]\n"
     ]
    }
   ],
   "source": [
    "def fRosenbrock(x,a=2,b=50):\n",
    "    f = (a-x[0])**2 + b*(x[1]-x[0]**2)**2\n",
    "    return(f)\n",
    "\n",
    "print('x0 = [1.2,1.2] \\n'+ str(lsNewtonMod(fRosenbrock,[1.2,1.2])))"
   ]
  },
  {
   "cell_type": "markdown",
   "metadata": {},
   "source": [
    "$a=0.1,b=20$"
   ]
  },
  {
   "cell_type": "code",
   "execution_count": 10,
   "metadata": {},
   "outputs": [
    {
     "name": "stdout",
     "output_type": "stream",
     "text": [
      "x0 = [1.2,1.2] \n",
      "[0.09999971 0.00999989]\n"
     ]
    }
   ],
   "source": [
    "def fRosenbrock(x,a=0.1,b=20):\n",
    "    f = (a-x[0])**2 + b*(x[1]-x[0]**2)**2\n",
    "    return(f)\n",
    "\n",
    "print('x0 = [1.2,1.2] \\n'+ str(lsNewtonMod(fRosenbrock,[1.2,1.2])))"
   ]
  },
  {
   "cell_type": "markdown",
   "metadata": {},
   "source": [
    "$a=0,b=100$"
   ]
  },
  {
   "cell_type": "code",
   "execution_count": 11,
   "metadata": {},
   "outputs": [
    {
     "name": "stdout",
     "output_type": "stream",
     "text": [
      "x0 = [1.2,1.2] \n",
      "[-6.67027875e-09 -5.00773574e-08]\n"
     ]
    }
   ],
   "source": [
    "def fRosenbrock(x,a=0,b=100):\n",
    "    f = (a-x[0])**2 + b*(x[1]-x[0]**2)**2\n",
    "    return(f)\n",
    "\n",
    "print('x0 = [1.2,1.2] \\n'+ str(lsNewtonMod(fRosenbrock,[1.2,1.2])))"
   ]
  }
 ],
 "metadata": {
  "kernelspec": {
   "display_name": "Python 3",
   "language": "python",
   "name": "python3"
  },
  "language_info": {
   "codemirror_mode": {
    "name": "ipython",
    "version": 3
   },
   "file_extension": ".py",
   "mimetype": "text/x-python",
   "name": "python",
   "nbconvert_exporter": "python",
   "pygments_lexer": "ipython3",
   "version": "3.8.5"
  }
 },
 "nbformat": 4,
 "nbformat_minor": 4
}
