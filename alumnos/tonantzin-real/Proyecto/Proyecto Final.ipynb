{
 "cells": [
  {
   "cell_type": "markdown",
   "metadata": {},
   "source": [
    "**Proyecto Final**\\\n",
    "Tonantzin Real Rojas \\\n",
    "**C.U.** 163491 \\\n",
    "**Fecha:** Noviembre 12, 2020"
   ]
  },
  {
   "cell_type": "markdown",
   "metadata": {},
   "source": [
    "Los algoritmos implementados en este proyecto son:\n",
    "1. BFGS\n",
    "2. Búsqueda Lineal de Newton con modificación a la Hessiana\n",
    "3. Algoritmo de Newton\n",
    "4. Búsqueda Lineal Base"
   ]
  },
  {
   "cell_type": "code",
   "execution_count": 1,
   "metadata": {},
   "outputs": [],
   "source": [
    "import numpy as np\n",
    "import math as ma\n",
    "import random as rd\n",
    "from numpy import linalg as la"
   ]
  },
  {
   "cell_type": "code",
   "execution_count": null,
   "metadata": {},
   "outputs": [],
   "source": [
    "class ProyectoFinal:\n",
    "    \n",
    "    "
   ]
  },
  {
   "cell_type": "code",
   "execution_count": 53,
   "metadata": {},
   "outputs": [],
   "source": [
    "def gradiente(f, xk):  # xk in R^n, np.array, f a function\n",
    "    n = len(xk)\n",
    "    epsilon = 0.0000001\n",
    "    res = np.zeros(n)\n",
    "    \n",
    "    for i in range(n):\n",
    "        zer = np.zeros(n)\n",
    "        zer[i] += epsilon\n",
    "        x1 = xk + zer\n",
    "        res[i] = (f(x1) - f(xk))/epsilon\n",
    "    return res\n",
    "\n",
    "def hessiana(f, xk): # xk in R^n, np.array\n",
    "    n = len(xk)\n",
    "    epsilon = 0.1\n",
    "    res = np.zeros((n,n))\n",
    "    \n",
    "    for i in range(n):\n",
    "        for j in range (n):\n",
    "            zeri = np.zeros(n)\n",
    "            zerj = np.zeros(n)\n",
    "            zeri[i] += epsilon\n",
    "            zerj[j] += epsilon\n",
    "            \n",
    "            x2e = xk + zeri + zerj   # x + epsilon*ei + epsilon*ej\n",
    "            xei = xk + zeri          # x + epsilon*ei \n",
    "            xej = xk + zerj          # x + epsilon * ej\n",
    "            \n",
    "            res[i,j] = (f(x2e) - f(xei) - f(xej) + f(xk)) / (epsilon**2)   # Hessiana\n",
    "            \n",
    "    return res        "
   ]
  },
  {
   "cell_type": "code",
   "execution_count": 26,
   "metadata": {},
   "outputs": [],
   "source": [
    "x = [1.0,1.0]\n",
    "\n",
    "def func(x):\n",
    "    return np.dot(x,x)"
   ]
  },
  {
   "cell_type": "code",
   "execution_count": 18,
   "metadata": {},
   "outputs": [
    {
     "data": {
      "text/plain": [
       "array([2.0000001, 2.0000001])"
      ]
     },
     "execution_count": 18,
     "metadata": {},
     "output_type": "execute_result"
    }
   ],
   "source": [
    "gradiente(func,x)"
   ]
  },
  {
   "cell_type": "code",
   "execution_count": 54,
   "metadata": {},
   "outputs": [
    {
     "data": {
      "text/plain": [
       "array([[2.0000000e+00, 4.4408921e-14],\n",
       "       [4.4408921e-14, 2.0000000e+00]])"
      ]
     },
     "execution_count": 54,
     "metadata": {},
     "output_type": "execute_result"
    }
   ],
   "source": [
    "hessiana(func,x)"
   ]
  }
 ],
 "metadata": {
  "kernelspec": {
   "display_name": "Python 3",
   "language": "python",
   "name": "python3"
  },
  "language_info": {
   "codemirror_mode": {
    "name": "ipython",
    "version": 3
   },
   "file_extension": ".py",
   "mimetype": "text/x-python",
   "name": "python",
   "nbconvert_exporter": "python",
   "pygments_lexer": "ipython3",
   "version": "3.8.5"
  }
 },
 "nbformat": 4,
 "nbformat_minor": 4
}
