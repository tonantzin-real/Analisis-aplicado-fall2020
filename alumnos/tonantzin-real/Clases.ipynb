{
 "cells": [
  {
   "cell_type": "code",
   "execution_count": 11,
   "metadata": {},
   "outputs": [],
   "source": [
    "import numpy as np"
   ]
  },
  {
   "cell_type": "markdown",
   "metadata": {},
   "source": [
    "Un objeto que dada una función, nos pueda calcular la hessiana y el gradiente de la misma"
   ]
  },
  {
   "cell_type": "code",
   "execution_count": 44,
   "metadata": {},
   "outputs": [],
   "source": [
    "class Derivadas:\n",
    "    # Siempre le damos un self para los objetos dentro de la clase\n",
    "    def __init__(self,f , h=1e-3):  # Funciones \"mágicas\", predeterminadas para todos los objetoc\n",
    "        self.f = f\n",
    "        self.h = h\n",
    "        \n",
    "    def grad(self,x):\n",
    "        #res = []\n",
    "        res = np.zeros(2)\n",
    "        for i in range(len(x)):\n",
    "            zer = np.zeros(2)\n",
    "            xh = np.copy(x)\n",
    "            zer[i] = self.h\n",
    "            xh = x + zer\n",
    "            #res.append((self.f(x) - self.f(xh))/self.h)\n",
    "            res[i] = (-self.f(x) + self.f(xh))/self.h\n",
    "        return res\n",
    "    \n",
    "    def hess(self,x):\n",
    "        #self.grad(x)\n",
    "        n = len(x)\n",
    "        res = np.zeros((n,n))\n",
    "\n",
    "        for i in range(n):\n",
    "            for j in range (n):\n",
    "                zeri = np.zeros(n)\n",
    "                zerj = np.zeros(n)\n",
    "                zeri[i] += self.h\n",
    "                zerj[j] += self.h\n",
    "\n",
    "                x2e = x + zeri + zerj   # x + epsilon*ei + epsilon*ej\n",
    "                xei = x + zeri          # x + epsilon*ei \n",
    "                xej = x + zerj          # x + epsilon * ej\n",
    "\n",
    "                res[i,j] = (self.f(x2e) - self.f(xei) -self.f(xej) + self.f(x)) / (self.h**2)   # Hessiana\n",
    "            \n",
    "        return res  "
   ]
  },
  {
   "cell_type": "code",
   "execution_count": 45,
   "metadata": {},
   "outputs": [],
   "source": [
    "def func(x):\n",
    "    return np.dot(x,x)"
   ]
  },
  {
   "cell_type": "code",
   "execution_count": 46,
   "metadata": {},
   "outputs": [],
   "source": [
    "a = Derivadas(func)"
   ]
  },
  {
   "cell_type": "code",
   "execution_count": 31,
   "metadata": {},
   "outputs": [
    {
     "data": {
      "text/plain": [
       "2.0"
      ]
     },
     "execution_count": 31,
     "metadata": {},
     "output_type": "execute_result"
    }
   ],
   "source": [
    "a.f([1.0,1.0])"
   ]
  },
  {
   "cell_type": "code",
   "execution_count": 42,
   "metadata": {},
   "outputs": [
    {
     "data": {
      "text/plain": [
       "array([1.99999999, 1.99999999])"
      ]
     },
     "execution_count": 42,
     "metadata": {},
     "output_type": "execute_result"
    }
   ],
   "source": [
    "a.grad([1.0,1.0])"
   ]
  },
  {
   "cell_type": "code",
   "execution_count": 47,
   "metadata": {},
   "outputs": [
    {
     "data": {
      "text/plain": [
       "array([[ 2.0000000e+00, -4.4408921e-10],\n",
       "       [-4.4408921e-10,  2.0000000e+00]])"
      ]
     },
     "execution_count": 47,
     "metadata": {},
     "output_type": "execute_result"
    }
   ],
   "source": [
    "a.hess([1.0,1.0])"
   ]
  },
  {
   "cell_type": "code",
   "execution_count": 77,
   "metadata": {},
   "outputs": [
    {
     "data": {
      "text/plain": [
       "13"
      ]
     },
     "execution_count": 77,
     "metadata": {},
     "output_type": "execute_result"
    }
   ],
   "source": [
    "func([2,3])"
   ]
  }
 ],
 "metadata": {
  "kernelspec": {
   "display_name": "Python 3",
   "language": "python",
   "name": "python3"
  },
  "language_info": {
   "codemirror_mode": {
    "name": "ipython",
    "version": 3
   },
   "file_extension": ".py",
   "mimetype": "text/x-python",
   "name": "python",
   "nbconvert_exporter": "python",
   "pygments_lexer": "ipython3",
   "version": "3.8.5"
  }
 },
 "nbformat": 4,
 "nbformat_minor": 4
}
