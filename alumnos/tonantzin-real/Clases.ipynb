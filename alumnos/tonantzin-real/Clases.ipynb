{
 "cells": [
  {
   "cell_type": "code",
   "execution_count": 4,
   "metadata": {},
   "outputs": [],
   "source": [
    "import numpy as np"
   ]
  },
  {
   "cell_type": "markdown",
   "metadata": {},
   "source": [
    "Un objeto que dada una función, nos pueda calcular la hessiana y el gradiente de la misma"
   ]
  },
  {
   "cell_type": "code",
   "execution_count": 71,
   "metadata": {},
   "outputs": [],
   "source": [
    "class Derivadas:\n",
    "    # Siempre le damos un self para los objetos dentro de la clase\n",
    "    def __init__(self,f , h=1e-8):  # Funciones \"mágicas\", predeterminadas para todos los objetoc\n",
    "        self.f = f\n",
    "        self.h = h\n",
    "        \n",
    "    def grad(self,x):\n",
    "        res = []\n",
    "        for i in range(len(x)):\n",
    "            xh = np.copy(x)\n",
    "            xh[i] = x[i] + self.h\n",
    "            res.append((self.f(x) - self.f(xh))/self.h)\n",
    "        return res\n",
    "    \n",
    "    def hess(self,x):\n",
    "        #self.grad(x)\n",
    "        n = len(x)\n",
    "        res = np.zeros((n,n))\n",
    "\n",
    "        for i in range(n):\n",
    "            for j in range (n):\n",
    "                zeri = np.zeros(n)\n",
    "                zerj = np.zeros(n)\n",
    "                zeri[i] += self.h\n",
    "                zerj[j] += self.h\n",
    "\n",
    "                x2e = x + zeri + zerj   # x + epsilon*ei + epsilon*ej\n",
    "                xei = x + zeri          # x + epsilon*ei \n",
    "                xej = x + zerj          # x + epsilon * ej\n",
    "\n",
    "                res[i,j] = (self.f(x2e) - self.f(xei) -self.f(xej) + self.f(x)) / (self.h**2)   # Hessiana\n",
    "            \n",
    "        return res  "
   ]
  },
  {
   "cell_type": "code",
   "execution_count": 72,
   "metadata": {},
   "outputs": [],
   "source": [
    "def func(x):\n",
    "    return np.dot(x,x)"
   ]
  },
  {
   "cell_type": "code",
   "execution_count": 73,
   "metadata": {},
   "outputs": [],
   "source": [
    "a = Derivadas(func)"
   ]
  },
  {
   "cell_type": "code",
   "execution_count": 74,
   "metadata": {},
   "outputs": [
    {
     "data": {
      "text/plain": [
       "2.0"
      ]
     },
     "execution_count": 74,
     "metadata": {},
     "output_type": "execute_result"
    }
   ],
   "source": [
    "a.f([1.0,1.0])"
   ]
  },
  {
   "cell_type": "code",
   "execution_count": 75,
   "metadata": {},
   "outputs": [
    {
     "data": {
      "text/plain": [
       "[-1.999999987845058, -1.999999987845058]"
      ]
     },
     "execution_count": 75,
     "metadata": {},
     "output_type": "execute_result"
    }
   ],
   "source": [
    "a.grad([1.0,1.0])"
   ]
  },
  {
   "cell_type": "code",
   "execution_count": 76,
   "metadata": {},
   "outputs": [
    {
     "data": {
      "text/plain": [
       "array([[4.4408921, 0.       ],\n",
       "       [0.       , 4.4408921]])"
      ]
     },
     "execution_count": 76,
     "metadata": {},
     "output_type": "execute_result"
    }
   ],
   "source": [
    "a.hess([1.0,1.0])"
   ]
  },
  {
   "cell_type": "code",
   "execution_count": 77,
   "metadata": {},
   "outputs": [
    {
     "data": {
      "text/plain": [
       "13"
      ]
     },
     "execution_count": 77,
     "metadata": {},
     "output_type": "execute_result"
    }
   ],
   "source": [
    "func([2,3])"
   ]
  }
 ],
 "metadata": {
  "kernelspec": {
   "display_name": "Python 3",
   "language": "python",
   "name": "python3"
  },
  "language_info": {
   "codemirror_mode": {
    "name": "ipython",
    "version": 3
   },
   "file_extension": ".py",
   "mimetype": "text/x-python",
   "name": "python",
   "nbconvert_exporter": "python",
   "pygments_lexer": "ipython3",
   "version": "3.8.5"
  }
 },
 "nbformat": 4,
 "nbformat_minor": 4
}
